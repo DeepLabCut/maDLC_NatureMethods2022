{
 "cells": [
  {
   "cell_type": "markdown",
   "metadata": {},
   "source": [
    "## Reproduces Extended Data Figure 2 in Lauer et al., Nature Methods 2022\n",
    "\n",
    "- note, to preserve benchmark integrity, we load only the 70% training set data for any ground truth (GT) aspects of the plots, whereas the Extended Data in the paper shows statistics for the full datasets."
   ]
  },
  {
   "cell_type": "code",
   "execution_count": null,
   "metadata": {},
   "outputs": [],
   "source": [
    "import matplotlib.pyplot as plt\n",
    "import numpy as np\n",
    "import pandas as pd\n",
    "import seaborn as sns\n",
    "sns.set_theme(style='ticks')\n",
    "\n",
    "from scipy.spatial import cKDTree\n",
    "from scipy.spatial.distance import cdist\n",
    "\n",
    "\n",
    "def calc_proximity_and_visibility_indices(hdf_file):\n",
    "    df = pd.read_hdf(hdf_file)\n",
    "    df = df.droplevel('scorer', axis=1).dropna(axis=1, how='all')\n",
    "    if 'single' in df:\n",
    "        df.drop('single', axis=1, level=0, inplace=True)\n",
    "    n_animals = len(df.columns.get_level_values('individuals').unique())\n",
    "    temp = df.groupby('individuals', axis=1).count()\n",
    "    mask = temp >= 2 * 2\n",
    "    counts = mask.sum(axis=1)\n",
    "    viz = counts / n_animals\n",
    "    coords = df.to_numpy().reshape((df.shape[0], n_animals, -1, 2))\n",
    "    centroids = np.expand_dims(np.nanmean(coords, axis=2), 2)\n",
    "    index = np.zeros(coords.shape[:2])\n",
    "    for i in range(coords.shape[0]):\n",
    "        c = centroids[i]\n",
    "        n_detected_animals = np.isfinite(c).all(axis=2).sum()\n",
    "        if n_detected_animals < 2:\n",
    "            continue\n",
    "        xy = coords[i]\n",
    "        radii = np.zeros(coords.shape[1])\n",
    "        for j in range(coords.shape[1]):\n",
    "            radii[j] = np.nanmax(cdist(c[j], xy[j]))\n",
    "        tree = cKDTree(xy.reshape((-1, 2)))\n",
    "        n_all = tree.query_ball_point(\n",
    "            c.squeeze(), np.ceil(radii), return_length=True,\n",
    "        )\n",
    "        n = np.isfinite(xy).any(axis=2).sum(axis=1)\n",
    "        index[i] = (n_all - n) / n\n",
    "    prox = np.nanmean(index, axis=1)\n",
    "    prox = prox[~np.isnan(prox)]\n",
    "    return prox, viz"
   ]
  },
  {
   "cell_type": "markdown",
   "metadata": {},
   "source": [
    "Fig S2"
   ]
  },
  {
   "cell_type": "code",
   "execution_count": null,
   "metadata": {},
   "outputs": [],
   "source": [
    "p1, _ = calc_proximity_and_visibility_indices('gt_trimice.h5')\n",
    "p2, _ = calc_proximity_and_visibility_indices('gt_pups.h5')\n",
    "p3, _ = calc_proximity_and_visibility_indices('gt_marmosets.h5')\n",
    "p4, _ = calc_proximity_and_visibility_indices('gt_fish.h5')\n",
    "\n",
    "fig, axes = plt.subplots(1, 4, tight_layout=True, figsize=(9, 2))\n",
    "sns.histplot(\n",
    "    x=p1, bins=51, ax=axes[0], stat='probability',\n",
    "    color=(206/255, 101/255, 41/255),\n",
    ")\n",
    "sns.histplot(\n",
    "    x=p2, bins=51, ax=axes[1], stat='probability',\n",
    "    color=(68/255, 145/255, 90/255),\n",
    ")\n",
    "sns.histplot(\n",
    "    x=p3, bins=51, ax=axes[2], stat='probability',\n",
    "    color=(199/255, 57/255, 122/255),\n",
    ")\n",
    "sns.histplot(\n",
    "    x=p4, bins=51, ax=axes[3], stat='probability',\n",
    "    color=(72/255, 132/255, 175/255),\n",
    ")\n",
    "axes[1].set_xlim(*axes[2].get_xlim())\n",
    "axes[1].set_xlim(-0.0825, 1.0825)\n",
    "for ax in axes[1:]:\n",
    "    ax.set_ylabel('')"
   ]
  },
  {
   "cell_type": "code",
   "execution_count": null,
   "metadata": {},
   "outputs": [],
   "source": []
  }
 ],
 "metadata": {
  "kernelspec": {
   "display_name": "Python [conda env:DEEPLABCUT] *",
   "language": "python",
   "name": "conda-env-DEEPLABCUT-py"
  },
  "language_info": {
   "codemirror_mode": {
    "name": "ipython",
    "version": 3
   },
   "file_extension": ".py",
   "mimetype": "text/x-python",
   "name": "python",
   "nbconvert_exporter": "python",
   "pygments_lexer": "ipython3",
   "version": "3.8.10"
  }
 },
 "nbformat": 4,
 "nbformat_minor": 2
}
